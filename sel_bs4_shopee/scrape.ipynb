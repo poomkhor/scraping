{
 "cells": [
  {
   "cell_type": "code",
   "execution_count": 37,
   "metadata": {},
   "outputs": [],
   "source": [
    "# main Edge driver\n",
    "from selenium import webdriver\n",
    "from selenium.webdriver.common.keys import Keys\n",
    "import bs4 as bs\n",
    "import pandas as pd\n",
    "import time\n",
    "import random\n",
    "\n",
    "# use selenium with beautifulsoup to scrape Shopee data for luggage\n",
    "driver = webdriver.Edge(r'C:\\Users\\poomk\\OneDrive\\Desktop\\Scraping\\edgedriver_win64\\msedgedriver')\n",
    "driver.get('https://shopee.co.th/')\n",
    "time.sleep(random.randint(3,6))\n",
    "\n",
    "# turn off all the prompt and commercials\n",
    "driver.find_element_by_xpath('/html/body/div[2]/div[1]/div[1]/div/div[3]/div[1]/button').click()\n",
    "# turn off ads using javascript command\n",
    "driver.execute_script('return document.querySelector(\"shopee-banner-popup-stateful\").shadowRoot.querySelector(\"div.shopee-popup__close-btn\")').click()\n",
    "time.sleep(random.randint(3,6))\n",
    "\n",
    "# find target categories from the tabs // กระเป๋าเดินทาง\n",
    "driver.find_element_by_xpath('/html/body/div[1]/div/div[2]/div/div/div[3]/div[3]/div[1]/div/div/div[2]/div/div[1]/ul/li[2]/div/a[1]/div').click()\n",
    "time.sleep(3)\n",
    "driver.find_element_by_xpath('/html/body/div[1]/div/div[2]/div/div/div[4]/div[1]/div[1]/div/div/div[2]/div/div[1]/div').click()\n",
    "time.sleep(2)\n",
    "driver.find_element_by_xpath('/html/body/div[1]/div/div[2]/div/div[1]/div[4]/div[1]/div[1]/div/div/div[2]/div/div[2]/div/a[4]').click()\n",
    "time.sleep(random.randint(2,5))\n",
    "\n",
    "# zoom out to force page to load all the product to be scraped\n",
    "driver.execute_script(\"document.body.style.zoom='15%'\")\n",
    "time.sleep(random.randint(2,5))\n",
    "\n",
    "# create a df\n",
    "products_list = []\n",
    "for i in range(9):\n",
    "    data = driver.page_source\n",
    "    soup = bs.BeautifulSoup(data)\n",
    "    # get all the product data in the page\n",
    "    all_product = soup.select(\".row>div\")\n",
    "    for product in all_product:\n",
    "        # product name\n",
    "        name = product.select_one(\"div.ScPA3O > div.klCFph > div.MZeqgw > div\").text\n",
    "        # price\n",
    "        price = product.select_one(\".cbl0HO.MUmBjS\").text\n",
    "        try:\n",
    "            price = price.replace('฿', '')\n",
    "            price = price.split('-')\n",
    "        except:\n",
    "            price = price\n",
    "        # original price\n",
    "        try:\n",
    "            ori_price = product.select_one('.cbl0HO._90eCxb.It3cSY').text\n",
    "            ori_price = float(ori_price.replace('฿', ''))\n",
    "        except:\n",
    "            ori_price = price\n",
    "        # sales\n",
    "        try:\n",
    "            sales = product.select_one(\"div.x\\+3B8m.wOebCz\").text.split()[1]\n",
    "            if \"พัน\" in sales:\n",
    "                sales = sales.replace(\"พัน\",\"\")\n",
    "                sales = float(sales)*1000\n",
    "            elif \"ล้าน\" in sales:\n",
    "                sales = sales.replace(\"ล้าน\",\"\")\n",
    "                sales = float(sales)*1000000\n",
    "            else:\n",
    "                sales = float(sales)\n",
    "        except:\n",
    "            sales = 0\n",
    "        # promotion\n",
    "        try:\n",
    "            promotion = product.select_one(\"div.mfd--s\").text\n",
    "        except:\n",
    "            promotion = None\n",
    "        # province\n",
    "        try:\n",
    "            province = product.select_one(\".mrz-bA\").text\n",
    "        except:\n",
    "            province = None\n",
    "        # product link\n",
    "        product_link_element = product.find('a')\n",
    "        product_link = product_link_element.get('href')\n",
    "        \n",
    "        # append list of product info\n",
    "        products_list.append([name, price, ori_price, sales, promotion, province, product_link])\n",
    "        \n",
    "    time.sleep(random.randint(2,5))\n",
    "    next_page = driver.find_element_by_css_selector(\"button[class='shopee-icon-button shopee-icon-button--right ']\")\n",
    "    driver.execute_script('arguments[0].click()', next_page)\n",
    "    time.sleep(random.randint(2,5))\n",
    "    \n",
    "time.sleep(2)\n",
    "driver.close()\n",
    "df = pd.DataFrame(products_list, columns=['item name', 'price', 'origianl price', 'sales', 'promotion', 'province', 'product link'])\n",
    "df.to_csv('output.csv', encoding='utf-8')\n"
   ]
  },
  {
   "cell_type": "code",
   "execution_count": 31,
   "metadata": {},
   "outputs": [
    {
     "data": {
      "text/plain": [
       "20"
      ]
     },
     "execution_count": 31,
     "metadata": {},
     "output_type": "execute_result"
    }
   ],
   "source": [
    "all_product"
   ]
  },
  {
   "cell_type": "code",
   "execution_count": 27,
   "metadata": {},
   "outputs": [
    {
     "ename": "NoSuchElementException",
     "evalue": "Message: no such element: Unable to locate element: {\"method\":\"xpath\",\"selector\":\"/html/body/div[1]/div/div[2]/div/div/div[4]/div[1]/div[1]/div/div/div[2]/div/div[1]/div\"}\n  (Session info: MicrosoftEdge=114.0.1823.51)\n",
     "output_type": "error",
     "traceback": [
      "\u001b[1;31m---------------------------------------------------------------------------\u001b[0m",
      "\u001b[1;31mNoSuchElementException\u001b[0m                    Traceback (most recent call last)",
      "Cell \u001b[1;32mIn[27], line 31\u001b[0m\n\u001b[0;32m     29\u001b[0m driver\u001b[39m.\u001b[39mfind_element_by_xpath(\u001b[39m'\u001b[39m\u001b[39m/html/body/div[1]/div/div[2]/div/div/div[3]/div[3]/div[1]/div/div/div[2]/div/div[1]/ul/li[2]/div/a[1]/div\u001b[39m\u001b[39m'\u001b[39m)\u001b[39m.\u001b[39mclick()\n\u001b[0;32m     30\u001b[0m \u001b[39m# time.sleep(10)\u001b[39;00m\n\u001b[1;32m---> 31\u001b[0m driver\u001b[39m.\u001b[39;49mfind_element_by_xpath(\u001b[39m'\u001b[39;49m\u001b[39m/html/body/div[1]/div/div[2]/div/div/div[4]/div[1]/div[1]/div/div/div[2]/div/div[1]/div\u001b[39;49m\u001b[39m'\u001b[39;49m)\u001b[39m.\u001b[39mclick()\n\u001b[0;32m     32\u001b[0m \u001b[39m# time.sleep(2)\u001b[39;00m\n\u001b[0;32m     33\u001b[0m driver\u001b[39m.\u001b[39mfind_element_by_xpath(\u001b[39m'\u001b[39m\u001b[39m/html/body/div[1]/div/div[2]/div/div[1]/div[4]/div[1]/div[1]/div/div/div[2]/div/div[2]/div/a[4]\u001b[39m\u001b[39m'\u001b[39m)\u001b[39m.\u001b[39mclick()\n",
      "File \u001b[1;32mc:\\Users\\poomk\\miniconda3\\envs\\scrapenv\\lib\\site-packages\\selenium\\webdriver\\remote\\webdriver.py:394\u001b[0m, in \u001b[0;36mWebDriver.find_element_by_xpath\u001b[1;34m(self, xpath)\u001b[0m\n\u001b[0;32m    378\u001b[0m \u001b[39mdef\u001b[39;00m \u001b[39mfind_element_by_xpath\u001b[39m(\u001b[39mself\u001b[39m, xpath):\n\u001b[0;32m    379\u001b[0m \u001b[39m    \u001b[39m\u001b[39m\"\"\"\u001b[39;00m\n\u001b[0;32m    380\u001b[0m \u001b[39m    Finds an element by xpath.\u001b[39;00m\n\u001b[0;32m    381\u001b[0m \n\u001b[1;32m   (...)\u001b[0m\n\u001b[0;32m    392\u001b[0m \u001b[39m        element = driver.find_element_by_xpath('//div/td[1]')\u001b[39;00m\n\u001b[0;32m    393\u001b[0m \u001b[39m    \"\"\"\u001b[39;00m\n\u001b[1;32m--> 394\u001b[0m     \u001b[39mreturn\u001b[39;00m \u001b[39mself\u001b[39;49m\u001b[39m.\u001b[39;49mfind_element(by\u001b[39m=\u001b[39;49mBy\u001b[39m.\u001b[39;49mXPATH, value\u001b[39m=\u001b[39;49mxpath)\n",
      "File \u001b[1;32mc:\\Users\\poomk\\miniconda3\\envs\\scrapenv\\lib\\site-packages\\selenium\\webdriver\\remote\\webdriver.py:976\u001b[0m, in \u001b[0;36mWebDriver.find_element\u001b[1;34m(self, by, value)\u001b[0m\n\u001b[0;32m    974\u001b[0m         by \u001b[39m=\u001b[39m By\u001b[39m.\u001b[39mCSS_SELECTOR\n\u001b[0;32m    975\u001b[0m         value \u001b[39m=\u001b[39m \u001b[39m'\u001b[39m\u001b[39m[name=\u001b[39m\u001b[39m\"\u001b[39m\u001b[39m%s\u001b[39;00m\u001b[39m\"\u001b[39m\u001b[39m]\u001b[39m\u001b[39m'\u001b[39m \u001b[39m%\u001b[39m value\n\u001b[1;32m--> 976\u001b[0m \u001b[39mreturn\u001b[39;00m \u001b[39mself\u001b[39;49m\u001b[39m.\u001b[39;49mexecute(Command\u001b[39m.\u001b[39;49mFIND_ELEMENT, {\n\u001b[0;32m    977\u001b[0m     \u001b[39m'\u001b[39;49m\u001b[39musing\u001b[39;49m\u001b[39m'\u001b[39;49m: by,\n\u001b[0;32m    978\u001b[0m     \u001b[39m'\u001b[39;49m\u001b[39mvalue\u001b[39;49m\u001b[39m'\u001b[39;49m: value})[\u001b[39m'\u001b[39m\u001b[39mvalue\u001b[39m\u001b[39m'\u001b[39m]\n",
      "File \u001b[1;32mc:\\Users\\poomk\\miniconda3\\envs\\scrapenv\\lib\\site-packages\\selenium\\webdriver\\remote\\webdriver.py:321\u001b[0m, in \u001b[0;36mWebDriver.execute\u001b[1;34m(self, driver_command, params)\u001b[0m\n\u001b[0;32m    319\u001b[0m response \u001b[39m=\u001b[39m \u001b[39mself\u001b[39m\u001b[39m.\u001b[39mcommand_executor\u001b[39m.\u001b[39mexecute(driver_command, params)\n\u001b[0;32m    320\u001b[0m \u001b[39mif\u001b[39;00m response:\n\u001b[1;32m--> 321\u001b[0m     \u001b[39mself\u001b[39;49m\u001b[39m.\u001b[39;49merror_handler\u001b[39m.\u001b[39;49mcheck_response(response)\n\u001b[0;32m    322\u001b[0m     response[\u001b[39m'\u001b[39m\u001b[39mvalue\u001b[39m\u001b[39m'\u001b[39m] \u001b[39m=\u001b[39m \u001b[39mself\u001b[39m\u001b[39m.\u001b[39m_unwrap_value(\n\u001b[0;32m    323\u001b[0m         response\u001b[39m.\u001b[39mget(\u001b[39m'\u001b[39m\u001b[39mvalue\u001b[39m\u001b[39m'\u001b[39m, \u001b[39mNone\u001b[39;00m))\n\u001b[0;32m    324\u001b[0m     \u001b[39mreturn\u001b[39;00m response\n",
      "File \u001b[1;32mc:\\Users\\poomk\\miniconda3\\envs\\scrapenv\\lib\\site-packages\\selenium\\webdriver\\remote\\errorhandler.py:242\u001b[0m, in \u001b[0;36mErrorHandler.check_response\u001b[1;34m(self, response)\u001b[0m\n\u001b[0;32m    240\u001b[0m         alert_text \u001b[39m=\u001b[39m value[\u001b[39m'\u001b[39m\u001b[39malert\u001b[39m\u001b[39m'\u001b[39m]\u001b[39m.\u001b[39mget(\u001b[39m'\u001b[39m\u001b[39mtext\u001b[39m\u001b[39m'\u001b[39m)\n\u001b[0;32m    241\u001b[0m     \u001b[39mraise\u001b[39;00m exception_class(message, screen, stacktrace, alert_text)\n\u001b[1;32m--> 242\u001b[0m \u001b[39mraise\u001b[39;00m exception_class(message, screen, stacktrace)\n",
      "\u001b[1;31mNoSuchElementException\u001b[0m: Message: no such element: Unable to locate element: {\"method\":\"xpath\",\"selector\":\"/html/body/div[1]/div/div[2]/div/div/div[4]/div[1]/div[1]/div/div/div[2]/div/div[1]/div\"}\n  (Session info: MicrosoftEdge=114.0.1823.51)\n"
     ]
    }
   ],
   "source": [
    "from selenium import webdriver\n",
    "from selenium.webdriver.common.keys import Keys\n",
    "import bs4 as bs\n",
    "import pandas as pd\n",
    "import time\n",
    "import random\n",
    "\n",
    "\"\"\"\n",
    "Try logging in with user info\n",
    "\"\"\"\n",
    "\n",
    "driver = webdriver.Edge(r'C:\\Users\\poomk\\OneDrive\\Desktop\\Scraping\\edgedriver_win64\\msedgedriver')\n",
    "# options = webdriver.ChromeOptions() \n",
    "# options.add_argument('--disable-blink-features=AutomationControlled')\n",
    "# options.add_argument('headless')\n",
    "# options.add_experimental_option(\"excludeSwitches\", [\"enable-automation\"])\n",
    "# options.add_experimental_option('useAutomationExtension', False)\n",
    "# driver = webdriver.Chrome(options=options, executable_path=r'C:\\Users\\poomk\\OneDrive\\Desktop\\Scraping\\chromedriver_win32\\chromedriver')\n",
    "#Setting up Chrome/83.0.4103.53 as useragent\n",
    "# driver.execute_cdp_cmd('Network.setUserAgentOverride', {\"userAgent\": 'Mozilla/5.0 (Windows NT 10.0; Win64; x64) AppleWebKit/537.36 (KHTML, like Gecko) Chrome/83.0.4103.53 Safari/537.36'})\n",
    "# driver.execute_script(\"Object.defineProperty(navigator, 'webdriver', {get: () => undefined})\")\n",
    "# # driver = webdriver.Chrome(r'C:\\Users\\poomk\\OneDrive\\Desktop\\Scraping\\chromedriver_win32\\chromedriver')\n",
    "driver.get('https://shopee.co.th/')\n",
    "time.sleep(2)\n",
    "# clear all ads and prompts\n",
    "driver.find_element_by_xpath('/html/body/div[2]/div[1]/div[1]/div/div[3]/div[1]/button').click()\n",
    "driver.execute_script('return document.querySelector(\"shopee-banner-popup-stateful\").shadowRoot.querySelector(\"div.shopee-popup__close-btn\")').click()\n",
    "# go to luggage category\n",
    "driver.find_element_by_xpath('/html/body/div[1]/div/div[2]/div/div/div[3]/div[3]/div[1]/div/div/div[2]/div/div[1]/ul/li[2]/div/a[1]/div').click()\n",
    "time.sleep(10)\n",
    "driver.find_element_by_xpath('/html/body/div[1]/div/div[2]/div/div/div[4]/div[1]/div[1]/div/div/div[2]/div/div[1]/div').click()\n",
    "time.sleep(2)\n",
    "driver.find_element_by_xpath('/html/body/div[1]/div/div[2]/div/div[1]/div[4]/div[1]/div[1]/div/div/div[2]/div/div[2]/div/a[4]').click()\n",
    "\n"
   ]
  },
  {
   "cell_type": "code",
   "execution_count": 35,
   "metadata": {},
   "outputs": [],
   "source": [
    "driver = webdriver.Edge(r'C:\\Users\\poomk\\OneDrive\\Desktop\\Scraping\\edgedriver_win64\\msedgedriver')\n",
    "driver.get('https://shopee.co.th/-%E0%B8%A3%E0%B8%B1%E0%B8%9A%E0%B8%9B%E0%B8%A3%E0%B8%B0%E0%B8%81%E0%B8%B1%E0%B8%995%E0%B8%9B%E0%B8%B5-SiamChoice-%E0%B8%81%E0%B8%A3%E0%B8%B0%E0%B9%80%E0%B8%9B%E0%B9%8B%E0%B8%B2%E0%B9%80%E0%B8%94%E0%B8%B4%E0%B8%99%E0%B8%97%E0%B8%B2%E0%B8%87%E0%B8%A5%E0%B9%89%E0%B8%AD%E0%B8%A5%E0%B8%B2%E0%B8%81-luggage-bag-suitcase-%E0%B8%81%E0%B8%A3%E0%B8%B0%E0%B9%80%E0%B8%9B%E0%B9%8B%E0%B8%B2%E0%B9%80%E0%B8%94%E0%B8%B4%E0%B8%99%E0%B8%97%E0%B8%B2%E0%B8%8714-20-%E0%B8%99%E0%B8%B4%E0%B9%89%E0%B8%A7-%E0%B8%A7%E0%B8%B1%E0%B8%AA%E0%B8%94%E0%B8%B8PP-%E0%B8%8B%E0%B8%B4%E0%B8%9BYKK-%E0%B8%99%E0%B9%89%E0%B8%B3%E0%B8%AB%E0%B8%99%E0%B8%B1%E0%B8%81%E0%B9%80%E0%B8%9A%E0%B8%B2-i.92659820.10587140530?sp_atk=f99b6f46-a5db-48d1-bd74-85ef0a2254c3&xptdk=f99b6f46-a5db-48d1-bd74-85ef0a2254c3')"
   ]
  },
  {
   "cell_type": "code",
   "execution_count": 22,
   "metadata": {},
   "outputs": [
    {
     "ename": "ElementNotInteractableException",
     "evalue": "Message: element not interactable\n  (Session info: MicrosoftEdge=114.0.1823.51)\n",
     "output_type": "error",
     "traceback": [
      "\u001b[1;31m---------------------------------------------------------------------------\u001b[0m",
      "\u001b[1;31mElementNotInteractableException\u001b[0m           Traceback (most recent call last)",
      "Cell \u001b[1;32mIn[22], line 1\u001b[0m\n\u001b[1;32m----> 1\u001b[0m driver\u001b[39m.\u001b[39;49mfind_element_by_css_selector(\u001b[39m\"\u001b[39;49m\u001b[39ma[class=\u001b[39;49m\u001b[39m'\u001b[39;49m\u001b[39mshopee-category-list__sub-category\u001b[39;49m\u001b[39m'\u001b[39;49m\u001b[39m][href^=\u001b[39;49m\u001b[39m'\u001b[39;49m\u001b[39m/กระเป๋าเดินทาง\u001b[39;49m\u001b[39m'\u001b[39;49m\u001b[39m]\u001b[39;49m\u001b[39m\"\u001b[39;49m)\u001b[39m.\u001b[39;49mclick()\n",
      "File \u001b[1;32mc:\\Users\\poomk\\miniconda3\\envs\\scrapenv\\lib\\site-packages\\selenium\\webdriver\\remote\\webelement.py:80\u001b[0m, in \u001b[0;36mWebElement.click\u001b[1;34m(self)\u001b[0m\n\u001b[0;32m     78\u001b[0m \u001b[39mdef\u001b[39;00m \u001b[39mclick\u001b[39m(\u001b[39mself\u001b[39m):\n\u001b[0;32m     79\u001b[0m \u001b[39m    \u001b[39m\u001b[39m\"\"\"Clicks the element.\"\"\"\u001b[39;00m\n\u001b[1;32m---> 80\u001b[0m     \u001b[39mself\u001b[39;49m\u001b[39m.\u001b[39;49m_execute(Command\u001b[39m.\u001b[39;49mCLICK_ELEMENT)\n",
      "File \u001b[1;32mc:\\Users\\poomk\\miniconda3\\envs\\scrapenv\\lib\\site-packages\\selenium\\webdriver\\remote\\webelement.py:633\u001b[0m, in \u001b[0;36mWebElement._execute\u001b[1;34m(self, command, params)\u001b[0m\n\u001b[0;32m    631\u001b[0m     params \u001b[39m=\u001b[39m {}\n\u001b[0;32m    632\u001b[0m params[\u001b[39m'\u001b[39m\u001b[39mid\u001b[39m\u001b[39m'\u001b[39m] \u001b[39m=\u001b[39m \u001b[39mself\u001b[39m\u001b[39m.\u001b[39m_id\n\u001b[1;32m--> 633\u001b[0m \u001b[39mreturn\u001b[39;00m \u001b[39mself\u001b[39;49m\u001b[39m.\u001b[39;49m_parent\u001b[39m.\u001b[39;49mexecute(command, params)\n",
      "File \u001b[1;32mc:\\Users\\poomk\\miniconda3\\envs\\scrapenv\\lib\\site-packages\\selenium\\webdriver\\remote\\webdriver.py:321\u001b[0m, in \u001b[0;36mWebDriver.execute\u001b[1;34m(self, driver_command, params)\u001b[0m\n\u001b[0;32m    319\u001b[0m response \u001b[39m=\u001b[39m \u001b[39mself\u001b[39m\u001b[39m.\u001b[39mcommand_executor\u001b[39m.\u001b[39mexecute(driver_command, params)\n\u001b[0;32m    320\u001b[0m \u001b[39mif\u001b[39;00m response:\n\u001b[1;32m--> 321\u001b[0m     \u001b[39mself\u001b[39;49m\u001b[39m.\u001b[39;49merror_handler\u001b[39m.\u001b[39;49mcheck_response(response)\n\u001b[0;32m    322\u001b[0m     response[\u001b[39m'\u001b[39m\u001b[39mvalue\u001b[39m\u001b[39m'\u001b[39m] \u001b[39m=\u001b[39m \u001b[39mself\u001b[39m\u001b[39m.\u001b[39m_unwrap_value(\n\u001b[0;32m    323\u001b[0m         response\u001b[39m.\u001b[39mget(\u001b[39m'\u001b[39m\u001b[39mvalue\u001b[39m\u001b[39m'\u001b[39m, \u001b[39mNone\u001b[39;00m))\n\u001b[0;32m    324\u001b[0m     \u001b[39mreturn\u001b[39;00m response\n",
      "File \u001b[1;32mc:\\Users\\poomk\\miniconda3\\envs\\scrapenv\\lib\\site-packages\\selenium\\webdriver\\remote\\errorhandler.py:242\u001b[0m, in \u001b[0;36mErrorHandler.check_response\u001b[1;34m(self, response)\u001b[0m\n\u001b[0;32m    240\u001b[0m         alert_text \u001b[39m=\u001b[39m value[\u001b[39m'\u001b[39m\u001b[39malert\u001b[39m\u001b[39m'\u001b[39m]\u001b[39m.\u001b[39mget(\u001b[39m'\u001b[39m\u001b[39mtext\u001b[39m\u001b[39m'\u001b[39m)\n\u001b[0;32m    241\u001b[0m     \u001b[39mraise\u001b[39;00m exception_class(message, screen, stacktrace, alert_text)\n\u001b[1;32m--> 242\u001b[0m \u001b[39mraise\u001b[39;00m exception_class(message, screen, stacktrace)\n",
      "\u001b[1;31mElementNotInteractableException\u001b[0m: Message: element not interactable\n  (Session info: MicrosoftEdge=114.0.1823.51)\n"
     ]
    }
   ],
   "source": [
    "driver.find_element_by_css_selector(\"a[class='shopee-category-list__sub-category'][href^='/กระเป๋าเดินทาง']\").click()"
   ]
  },
  {
   "cell_type": "code",
   "execution_count": null,
   "metadata": {},
   "outputs": [],
   "source": [
    "# next_page = driver.find_element_by_xpath('/html/body/div[1]/div/div[2]/div/div/div[3]/div[2]/div/div[3]/div/button[10]')\n",
    "# driver.execute_script('arguments[0].click()', next_page)\n",
    "\n",
    "next_page = driver.find_element_by_css_selector(\"button[class='shopee-icon-button shopee-icon-button--right ']\")\n",
    "driver.execute_script('arguments[0].click()', next_page)\n",
    "\n"
   ]
  },
  {
   "cell_type": "code",
   "execution_count": null,
   "metadata": {},
   "outputs": [],
   "source": [
    "data = driver.page_source"
   ]
  },
  {
   "cell_type": "code",
   "execution_count": null,
   "metadata": {},
   "outputs": [],
   "source": [
    "soup = bs.BeautifulSoup(data)"
   ]
  },
  {
   "cell_type": "code",
   "execution_count": null,
   "metadata": {},
   "outputs": [],
   "source": [
    "page_product = soup.find_all('div', {'class':'_1yN94N WoKSjC _2KkMCe'})"
   ]
  },
  {
   "cell_type": "code",
   "execution_count": null,
   "metadata": {},
   "outputs": [],
   "source": [
    "all_product = soup.select('.row>div')"
   ]
  },
  {
   "cell_type": "code",
   "execution_count": null,
   "metadata": {},
   "outputs": [],
   "source": [
    "#main > div > div:nth-child(3) > div > div > div.container.iFOymg > div.doAEtb > div > div.row.shopee-search-item-result__items > div:nth-child(9) > a > div > div > div.ScPA3O > div.tysB0L > div.x\\+3B8m.wOebCz"
   ]
  },
  {
   "cell_type": "code",
   "execution_count": 32,
   "metadata": {},
   "outputs": [
    {
     "data": {
      "text/plain": [
       "['/พร้อมส่ง-ครบสี-ขวดแบ่งครีมขนาด60ml-ขวดบรรจุครีม-ขวดแบ่งเจลขนาดพกพา-i.326210295.9315723240?sp_atk=ea406210-e731-4cef-a562-aea401e6b15d&xptdk=ea406210-e731-4cef-a562-aea401e6b15d',\n",
       " '/HH-153-กล่องใส่แมส-กล่องใส่หน้ากากอนามัย-สำหรับพกพา-ป้องกันสิ่งสกปรก-ใส่ได้-10-ชิ้น-i.418553250.11531235771?sp_atk=bf475f54-0095-4f34-ac6a-163e90157881&xptdk=bf475f54-0095-4f34-ac6a-163e90157881',\n",
       " '/5-10mlขวดสเปรย์สูญญากาศ-ทรงสูง-ขวดpet-ขวดโทนเนอร์-ขวดสเปรย์น้ำมันหอม-ขวดเติม-ขวดแอลกอฮอล์-ขวดเครื่องสำอาง-ขวดน้ำมัน-i.9921153.18518830035?sp_atk=c2cfed1a-e3b5-4e33-a3ec-0519a0a12dd3&xptdk=c2cfed1a-e3b5-4e33-a3ec-0519a0a12dd3',\n",
       " '/กระเป๋าเดินทาง-กระเป๋าลากกระเป๋าเดินทาง-24-นิ้ว-กระเป๋าเดินทาง-24-นิ้ว-กระเป๋าเดินทาง-24-นิ้ว-ล้อลาก-i.869276255.21765420527?sp_atk=06a3dc2d-41b1-49c5-ad40-08afdd4ed317&xptdk=06a3dc2d-41b1-49c5-ad40-08afdd4ed317',\n",
       " '/กระเป๋าเดินทาง18นิ้ว-กระเป๋าเดินทางสำหรับหิ้วขึ้นเครื่อง-กระเป๋าเดินทางล้อลาก-i.66959050.17258797531?sp_atk=f54f9e2a-7e42-4729-bdea-fb3e448f6e56&xptdk=f54f9e2a-7e42-4729-bdea-fb3e448f6e56',\n",
       " '/(ปลีก)-ขวดสเปรย์แก้ว-ฝาใส-ฝาขาว-ฝาดำ-ฝาคละสี-สเปรย์ฆ่าเชื้อ-น้ำหอม-พกพาสะดวก-ฝาหมุนเติมรีฟิลได้-1ml-2ml-3ml-5ml-10ml-i.85795023.9457529186?sp_atk=83a300d3-db2c-44e5-8a1e-eab86ab1661c&xptdk=83a300d3-db2c-44e5-8a1e-eab86ab1661c',\n",
       " '/หลอดใส่เจล-หลอดบีบ-หลอดครีมเปล่าขนาด-30-50-100ml-หลอดเปล่า-พร้อมส่ง-i.404438176.16057928968?sp_atk=2121b4b3-9334-4703-8202-db36e61b772b&xptdk=2121b4b3-9334-4703-8202-db36e61b772b',\n",
       " '/-รับประกัน5ปี-SiamChoice-กระเป๋าเดินทางล้อลาก-luggage-bag-suitcase-กระเป๋าเดินทาง14-20-นิ้ว-วัสดุPP-ซิปYKK-น้ำหนักเบา-i.92659820.10587140530?sp_atk=2947a951-9f18-4aa0-b239-fca68050aeac&xptdk=2947a951-9f18-4aa0-b239-fca68050aeac',\n",
       " '/หัวปั๊ม-คอ24-มีสามสี-พร้อมส่ง-i.93124367.9128373593?sp_atk=c5aa2e07-b8ce-4dd1-a5bf-2a563c29044b&xptdk=c5aa2e07-b8ce-4dd1-a5bf-2a563c29044b',\n",
       " '/ขวดเปล่า-ตลับสเปรย์-แอลกอฮอล์ทรงรูป-U-▸มีรู-2-ข้างสำหรับคล้องสาย-ขนาด-30-ml.-ขวดสเปร์ยฝาดึง-สำหรับเติมรีฟิว-📍พร้อมส่ง-i.49482551.17754160005?sp_atk=17bd0ca2-5c7b-40a7-be2c-70c07cf41ff4&xptdk=17bd0ca2-5c7b-40a7-be2c-70c07cf41ff4',\n",
       " '/MOOF49-กระเป๋าเดินทางรุ่น-KEEP-Luggage-ขนาด-(20-24-28-)-วัสดุ-ABS-ดีไซน์มินิมอล-(รับประกัน-1-ปี)-i.11206206.18807284903?sp_atk=a8ee64e1-9054-40b7-b605-0f9f963e5666&xptdk=a8ee64e1-9054-40b7-b605-0f9f963e5666',\n",
       " '/(ปลีก)-ที่เปิดฝาขวดน้ำมันหอมระเหย-แผ่นเปิดจุกน้ำมัน-แผ่นเปิด-อุปกรณ์เปิดฝาขวดน้ำมันหอมระเหย-ใช้ได้หลายขนาด-i.85795023.14929852802?sp_atk=5726d5ec-d8f2-4fa9-aee8-1f7202d1132d&xptdk=5726d5ec-d8f2-4fa9-aee8-1f7202d1132d',\n",
       " '/ตลับสเปรย์\\u200bแอลกอฮอล์\\u200b-50ml\\u200b-(ฝาหมุน)\\u200b-i.24488252.13911671812?sp_atk=40f77aee-a63a-4e75-aeba-65d803af7ec8&xptdk=40f77aee-a63a-4e75-aeba-65d803af7ec8',\n",
       " '/ขวดหยดพลาสติกเปล่า-สีขุ่นพร้อมจุกและฝา-5ml-10ml-20ml-จำนวน1ชิ้น-i.6413842.3615932995?sp_atk=79627cdd-2832-4abe-9123-d4a322c47141&xptdk=79627cdd-2832-4abe-9123-d4a322c47141',\n",
       " '/หัวป๊อกแป๊ก-คอ24-มี2สี-พร้อมส่ง-i.93124367.12481132583?sp_atk=75a0be0e-659e-44dc-b518-46286bb05e7b&xptdk=75a0be0e-659e-44dc-b518-46286bb05e7b',\n",
       " '/ขวดคล้องเอนกประสงค์-60ml-ขวดรีฟิล-เดินทาง-ขวดคล้องห้อยกระเป๋า-ขวดพกพา-ขวดเติมเจลอนามัยใส่แอลกอฮอล์-ขวดเปล่า-เหมาะเดินทาง-i.9921153.4524207554?sp_atk=63af46d2-25ea-461b-aa5f-5f5eeb02cd24&xptdk=63af46d2-25ea-461b-aa5f-5f5eeb02cd24',\n",
       " '/AMERICAN-TOURISTER-กระเป๋าเดินทาง-(29-นิ้ว)-รุ่น-TRIGARD-SPINNER-79-29-TSA-i.22071610.2777384171?sp_atk=43155452-551c-40c0-9cc0-5da225a3de03&xptdk=43155452-551c-40c0-9cc0-5da225a3de03',\n",
       " '/⭐️สวยที่สุด⭐️-กระเป๋าเดินทาง-4ล้อ-โครงล๊อค-เนื้อกระเป๋า-PC-ABS-หนา-แข็งแรง-ระบบล็อค-TSA-รหัส-3ตัว-i.85034821.5634582578?sp_atk=c6e80d2b-e289-488c-ab53-7c9bfe5a0163&xptdk=c6e80d2b-e289-488c-ab53-7c9bfe5a0163',\n",
       " '/5-10-15-มล.-ขวดจ่ายรองพื้น-แบบใส-ขวดตัวอย่าง-เอสเซนส์-เดินทาง-แบบพกพา-หลอดเปล่า-สูญญากาศ-อายเจล-ครีม-i.832298887.19351201845?sp_atk=dd1e447a-7eec-49b6-a82c-c5223ceee6be&xptdk=dd1e447a-7eec-49b6-a82c-c5223ceee6be',\n",
       " '/Q-eye-30-และ-60-ml-ขวดเล็ก-สำหรับพกพา-i.254444643.5263507824?sp_atk=dc639d59-51da-4fb4-8f75-9e4e26065974&xptdk=dc639d59-51da-4fb4-8f75-9e4e26065974']"
      ]
     },
     "execution_count": 32,
     "metadata": {},
     "output_type": "execute_result"
    }
   ],
   "source": [
    "products = []\n",
    "for product in all_product:\n",
    "    price = product.find('a')\n",
    "    product_link =price.get('href')\n",
    "    products.append(product_link)\n",
    "products"
   ]
  },
  {
   "cell_type": "code",
   "execution_count": null,
   "metadata": {},
   "outputs": [],
   "source": []
  },
  {
   "cell_type": "code",
   "execution_count": null,
   "metadata": {},
   "outputs": [],
   "source": [
    "page_product"
   ]
  },
  {
   "cell_type": "code",
   "execution_count": null,
   "metadata": {},
   "outputs": [],
   "source": [
    "product_list = []\n",
    "for product in page_product:\n",
    "    product_list.append(product.text)\n",
    "product_list"
   ]
  },
  {
   "cell_type": "code",
   "execution_count": null,
   "metadata": {},
   "outputs": [],
   "source": [
    "all_price = soup.find_all('div', {'class': 'AQ4KLF'})\n",
    "price_list = []\n",
    "for price in all_price:\n",
    "    price_list.append(price.text)\n",
    "price_list"
   ]
  },
  {
   "cell_type": "code",
   "execution_count": null,
   "metadata": {},
   "outputs": [],
   "source": [
    "all_sales = soup.find_all('div', {'class' : 'x+3B8m wOebCz'})\n",
    "sales_list = []\n",
    "for sales in all_sales:\n",
    "    sales_list.append(sales.text)\n",
    "sales_list"
   ]
  },
  {
   "cell_type": "code",
   "execution_count": null,
   "metadata": {},
   "outputs": [],
   "source": []
  }
 ],
 "metadata": {
  "kernelspec": {
   "display_name": "scrapenv",
   "language": "python",
   "name": "python3"
  },
  "language_info": {
   "codemirror_mode": {
    "name": "ipython",
    "version": 3
   },
   "file_extension": ".py",
   "mimetype": "text/x-python",
   "name": "python",
   "nbconvert_exporter": "python",
   "pygments_lexer": "ipython3",
   "version": "3.10.11"
  },
  "orig_nbformat": 4
 },
 "nbformat": 4,
 "nbformat_minor": 2
}
